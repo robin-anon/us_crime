{
 "cells": [
  {
   "cell_type": "code",
   "execution_count": 1,
   "metadata": {},
   "outputs": [],
   "source": [
    "import bs4\n",
    "import numpy as np\n",
    "import pandas as pd"
   ]
  },
  {
   "cell_type": "code",
   "execution_count": 2,
   "metadata": {},
   "outputs": [],
   "source": [
    "def coerce_percent(x):\n",
    "    try:\n",
    "        if float(x) <= 100:\n",
    "            return float(x)\n",
    "        else:\n",
    "            return np.nan\n",
    "    except ValueError:\n",
    "        return np.nan"
   ]
  },
  {
   "cell_type": "code",
   "execution_count": 3,
   "metadata": {},
   "outputs": [],
   "source": [
    "crime = pd.read_excel(\n",
    "    \"Table_8_Offenses_Known_to_Law_Enforcement_by_State_by_City_2018.xls\", skiprows=3\n",
    ")\n",
    "crime = crime.drop(crime.tail(10).index)\n",
    "crime[\"State\"] = crime[\"State\"].fillna(method=\"ffill\")\n",
    "crime = crime.dropna()\n",
    "crime[\"violent_crime_rate\"] = crime[\"Violent\\ncrime\"] / crime[\"Population\"]\n",
    "crime[\"state\"] = crime[\"State\"].apply(\n",
    "    lambda x: \"\".join(char for char in x if char.isalpha()).lower().replace(\"city\", \"\")\n",
    ")\n",
    "crime[\"city\"] = crime[\"City\"].apply(\n",
    "    lambda x: \"\".join(char for char in x if char.isalpha()).lower().replace(\"city\", \"\")\n",
    ")\n",
    "crime[\"city_state\"] = crime[[\"city\", \"state\"]].apply(lambda x: \"\".join(x), axis=1)\n",
    "crime = crime[[\"city_state\", \"violent_crime_rate\"]].set_index(\"city_state\")[\n",
    "    \"violent_crime_rate\"\n",
    "]"
   ]
  },
  {
   "cell_type": "code",
   "execution_count": 4,
   "metadata": {},
   "outputs": [],
   "source": [
    "demo = pd.read_csv(\n",
    "    \"ACSDP1Y2018.DP05_data_with_overlays_2020-08-23T064728.csv\", skiprows=1\n",
    ")\n",
    "name = demo[\"Geographic Area Name\"]\n",
    "rel_col = [col for col in demo.columns if col.lower().startswith(\"percent estimate\")]\n",
    "demo = demo[rel_col]\n",
    "demo = demo.applymap(coerce_percent)\n",
    "demo = demo.dropna(axis=1, how=\"all\")\n",
    "demo[\"Geographic Area Name\"] = name"
   ]
  },
  {
   "cell_type": "code",
   "execution_count": 5,
   "metadata": {},
   "outputs": [],
   "source": [
    "econ = pd.read_csv(\n",
    "    \"ACSDP1Y2018.DP03_data_with_overlays_2020-08-23T070706.csv\", skiprows=1\n",
    ")\n",
    "name = econ[\"Geographic Area Name\"]\n",
    "rel_col = [col for col in econ.columns if col.lower().startswith(\"percent estimate\")]\n",
    "econ = econ[rel_col]\n",
    "econ = econ.applymap(coerce_percent)\n",
    "econ = econ.dropna(axis=1, how=\"all\")\n",
    "econ[\"Geographic Area Name\"] = name"
   ]
  },
  {
   "cell_type": "code",
   "execution_count": 6,
   "metadata": {},
   "outputs": [],
   "source": [
    "census = pd.merge(econ, demo, on=\"Geographic Area Name\")\n",
    "census[\"state\"] = census[\"Geographic Area Name\"].apply(lambda x: x.split(\",\")[-1])\n",
    "census[\"city\"] = census[\"Geographic Area Name\"].apply(lambda x: x.split(\",\")[0])\n",
    "census[\"state\"] = census[\"state\"].apply(\n",
    "    lambda x: \"\".join(char for char in x if char.isalpha()).lower().replace(\"city\", \"\")\n",
    ")\n",
    "census[\"city\"] = census[\"city\"].apply(\n",
    "    lambda x: \"\".join(char for char in x if char.isalpha()).lower().replace(\"city\", \"\")\n",
    ")\n",
    "census[\"city_state\"] = census[[\"city\", \"state\"]].apply(lambda x: \"\".join(x), axis=1)\n",
    "census = census.drop([\"Geographic Area Name\", \"state\", \"city\"], axis=1)\n",
    "census = census.set_index(\"city_state\")"
   ]
  },
  {
   "cell_type": "code",
   "execution_count": 7,
   "metadata": {},
   "outputs": [],
   "source": [
    "file = open(\n",
    "    \"List of mayors of the 50 largest cities in the United States - Wikipedia.htm\",\n",
    "    \"r\",\n",
    "    encoding=\"utf-8\",\n",
    ")\n",
    "page = file.read()\n",
    "file.close()\n",
    "soup = bs4.BeautifulSoup(page)\n",
    "mayor = []\n",
    "for tag in soup.find_all(\"table\")[1].find_all(\"tbody\")[0].find_all(\"tr\"):\n",
    "    party = tag.find_all(\"td\")[1].text\n",
    "    city = tag.find_all(\"td\")[2].text\n",
    "    state = tag.find_all(\"td\")[3].text\n",
    "    mayor.append([party, city, state])\n",
    "mayor = pd.DataFrame(mayor, columns=\"party city state\".split())\n",
    "mayor[\"city\"] = mayor[\"city\"].apply(\n",
    "    lambda x: \"\".join(char for char in x if char.isalpha()).lower().replace(\"city\", \"\")\n",
    ")\n",
    "mayor[\"state\"] = mayor[\"state\"].apply(\n",
    "    lambda x: \"\".join(char for char in x if char.isalpha()).lower().replace(\"city\", \"\")\n",
    ")\n",
    "mayor[\"city_state\"] = mayor[[\"city\", \"state\"]].apply(lambda x: \"\".join(x), axis=1)\n",
    "mayor = mayor[[\"city_state\", \"party\"]].set_index(\"city_state\")[\"party\"]"
   ]
  },
  {
   "cell_type": "code",
   "execution_count": 8,
   "metadata": {},
   "outputs": [],
   "source": [
    "data = census.copy()\n",
    "data[\"party\"] = mayor\n",
    "data[\"violent_crime_rate\"] = crime\n",
    "data = data.dropna(subset=[\"violent_crime_rate\"])\n",
    "data = pd.get_dummies(data, dummy_na=True)\n",
    "data.loc[\n",
    "    data[\"party_nan\"] == 1,\n",
    "    [\"party_Democratic\", \"party_Independent\", \"party_Republican\"],\n",
    "] = np.nan\n",
    "del data[\"party_nan\"]\n",
    "data = data.fillna(data.mean())\n",
    "data.to_csv(\"data.csv\")"
   ]
  },
  {
   "cell_type": "code",
   "execution_count": null,
   "metadata": {},
   "outputs": [],
   "source": []
  }
 ],
 "metadata": {
  "kernelspec": {
   "display_name": "Python 3",
   "language": "python",
   "name": "python3"
  },
  "language_info": {
   "codemirror_mode": {
    "name": "ipython",
    "version": 3
   },
   "file_extension": ".py",
   "mimetype": "text/x-python",
   "name": "python",
   "nbconvert_exporter": "python",
   "pygments_lexer": "ipython3",
   "version": "3.8.5"
  }
 },
 "nbformat": 4,
 "nbformat_minor": 4
}
